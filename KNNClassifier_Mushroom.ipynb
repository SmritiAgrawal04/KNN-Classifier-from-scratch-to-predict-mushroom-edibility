{
 "cells": [
  {
   "cell_type": "markdown",
   "metadata": {},
   "source": [
    "# A KNN based classifier to classify given set of features in Mushroom Database"
   ]
  },
  {
   "cell_type": "markdown",
   "metadata": {},
   "source": [
    "## Importing the required libraries"
   ]
  },
  {
   "cell_type": "code",
   "execution_count": 72,
   "metadata": {},
   "outputs": [],
   "source": [
    "import pandas as pd\n",
    "from csv import reader\n",
    "import numpy as np\n",
    "import matplotlib.pyplot as plt\n",
    "import seaborn as sns\n",
    "%matplotlib inline\n",
    "import random\n",
    "from math import sqrt\n",
    "from numpy import array\n",
    "from numpy import argmax\n",
    "from keras.utils.np_utils import to_categorical\n",
    "from sklearn.metrics import precision_score,recall_score, confusion_matrix, classification_report, accuracy_score, f1_score"
   ]
  },
  {
   "cell_type": "code",
   "execution_count": 73,
   "metadata": {},
   "outputs": [],
   "source": [
    "def load_csv(filename):\n",
    "    dataset= pd.read_csv(filename,header=None)\n",
    "    print (dataset.head())\n",
    "    return dataset.as_matrix()"
   ]
  },
  {
   "cell_type": "code",
   "execution_count": 74,
   "metadata": {
    "scrolled": true
   },
   "outputs": [
    {
     "name": "stdout",
     "output_type": "stream",
     "text": [
      "  0  1  2  3  4  5  6  7  8  9  ... 13 14 15 16 17 18 19 20 21 22\n",
      "0  e  k  s  n  f  n  a  c  b  y ...  s  o  o  p  n  o  p  b  c  l\n",
      "1  e  k  s  g  f  n  f  w  b  p ...  s  w  w  p  w  t  p  w  s  g\n",
      "2  e  b  s  g  f  n  f  w  b  w ...  s  w  w  p  w  t  p  w  s  g\n",
      "3  e  s  f  g  f  n  f  c  n  n ...  s  w  w  p  w  o  p  n  v  u\n",
      "4  e  f  f  g  f  n  f  w  b  p ...  f  w  w  p  w  o  e  n  a  g\n",
      "\n",
      "[5 rows x 23 columns]\n"
     ]
    }
   ],
   "source": [
    "filename= '/home/smriti/Downloads/train_2.csv'\n",
    "dataset = load_csv(filename)\n",
    "dataset = np.delete(dataset, 11, 1)\n",
    "\n",
    "attributes= []\n",
    "cap_shape = ['b','c','x','f','k','s']\n",
    "cap_surface = ['f', 'g' , 'y', 's']\n",
    "cap_color = ['n', 'b', 'c', 'g', 'r', 'p', 'u', 'e', 'w', 'y']\n",
    "bruises = ['t', 'f']\n",
    "odor = ['a', 'l', 'c', 'y', 'f', 'm', 'n', 'p', 's']\n",
    "gill_attach = ['a', 'f', 'd', 'n']\n",
    "gill_space = ['c', 'w' , 'd']\n",
    "gill_size = ['b', 'n']\n",
    "gill_color = ['k', 'n' , 'b', 'h', 'g', 'r', 'o', 'p', 'u', 'e', 'w', 'y']\n",
    "stalk_shape = ['e', 't']\n",
    "stalk_sabove = ['f', 'y' , 'k', 's']\n",
    "stalk_sbelow = ['f', 'y' , 'k', 's']\n",
    "stalk_cabove = ['n', 'b', 'c', 'g', 'o', 'p', 'e', 'w', 'y']\n",
    "stalk_cbelow = ['n', 'b', 'c', 'g', 'o', 'p', 'e', 'w', 'y']\n",
    "veil_type = ['p', 'u']\n",
    "veil_color = ['n', 'o', 'w', 'y']\n",
    "ring_num = ['n', 'o', 't']\n",
    "ring_type = ['c', 'e', 'f', 'l', 'n', 'p', 's', 'z']\n",
    "spore = ['k', 'n', 'b', 'h', 'r', 'o', 'u', 'w', 'y']\n",
    "population = ['a', 'c', 'n', 's', 'v', 'y']\n",
    "habitat = ['g', 'l', 'm', 'p', 'u', 'w', 'd']\n",
    "\n",
    "\n",
    "attributes.append(cap_shape)\n",
    "attributes.append(cap_surface)\n",
    "attributes.append(cap_color)\n",
    "attributes.append(bruises)\n",
    "attributes.append(odor)\n",
    "attributes.append(gill_attach)\n",
    "attributes.append(gill_space)\n",
    "attributes.append(gill_size)\n",
    "attributes.append(gill_color)\n",
    "attributes.append(stalk_shape)\n",
    "attributes.append(stalk_sabove)\n",
    "attributes.append(stalk_sbelow)\n",
    "attributes.append(stalk_cabove)\n",
    "attributes.append(stalk_cbelow)\n",
    "attributes.append(veil_type)\n",
    "attributes.append(veil_color)\n",
    "attributes.append(ring_num)\n",
    "attributes.append(ring_type)\n",
    "attributes.append(spore)\n",
    "attributes.append(population)\n",
    "attributes.append(habitat)\n",
    "\n",
    "s= []\n",
    "for i in range (0, len(dataset)):\n",
    "    s.append(dataset[i][0])\n",
    "new_dataset= pd.DataFrame(s)\n"
   ]
  },
  {
   "cell_type": "code",
   "execution_count": 75,
   "metadata": {},
   "outputs": [
    {
     "name": "stdout",
     "output_type": "stream",
     "text": [
      "   0  b  c  x  f  k  s  f  g  y ...  s  v  y  g  l  m  p  u  w  d\n",
      "0  e  0  0  0  0  1  0  0  0  0 ...  0  0  0  0  1  0  0  0  0  0\n",
      "1  e  0  0  0  0  1  0  0  0  0 ...  1  0  0  1  0  0  0  0  0  0\n",
      "2  e  1  0  0  0  0  0  0  0  0 ...  1  0  0  1  0  0  0  0  0  0\n",
      "3  e  0  0  0  0  0  1  1  0  0 ...  0  1  0  0  0  0  0  1  0  0\n",
      "4  e  0  0  0  1  0  0  1  0  0 ...  0  0  0  1  0  0  0  0  0  0\n",
      "\n",
      "[5 rows x 120 columns]\n"
     ]
    }
   ],
   "source": [
    "for i in range (0, len(attributes)):\n",
    "    s= []\n",
    "    for j in range (0, len(dataset)):\n",
    "        s.append(dataset[j][i+1])\n",
    "    encode= pd.get_dummies(s, columns=attributes[i])\n",
    "    encode = encode.T.reindex(attributes[i]).T.fillna(0)\n",
    "    \n",
    "    df= pd.DataFrame(encode)\n",
    "\n",
    "    new_dataset= pd.concat([new_dataset, df], axis= 1)\n",
    "print(new_dataset.head())"
   ]
  },
  {
   "cell_type": "markdown",
   "metadata": {},
   "source": [
    "## Shuffle the dataset into train and test data"
   ]
  },
  {
   "cell_type": "code",
   "execution_count": 76,
   "metadata": {},
   "outputs": [],
   "source": [
    "def split_data(new_dataset):\n",
    "    random.shuffle(new_dataset)\n",
    "    train_data = new_dataset[int(0.2*len(new_dataset)):]\n",
    "    valid_data = new_dataset[int(0.8*len(new_dataset)):]\n",
    "    return train_data, valid_data"
   ]
  },
  {
   "cell_type": "code",
   "execution_count": 77,
   "metadata": {},
   "outputs": [
    {
     "name": "stdout",
     "output_type": "stream",
     "text": [
      "3597\n",
      "900\n"
     ]
    }
   ],
   "source": [
    "train_data, valid_data= split_data(new_dataset.as_matrix())\n",
    "print(len(train_data))\n",
    "print(len(valid_data))\n",
    "\n",
    "# print (train_data)\n",
    "\n",
    "actual_labels= []\n",
    "for line in valid_data:\n",
    "    actual_labels.append(line[0])"
   ]
  },
  {
   "cell_type": "markdown",
   "metadata": {},
   "source": [
    "## Calculate Eculidean Distance"
   ]
  },
  {
   "cell_type": "code",
   "execution_count": 78,
   "metadata": {},
   "outputs": [],
   "source": [
    "def euclidean_distance(row1, row2):\n",
    "    distance = 0.0\n",
    "    for i in range(1,len(row1)-1):\n",
    "        distance += (row1[i] - row2[i])**2\n",
    "#     print (sqrt(distance))\n",
    "    return sqrt(distance)"
   ]
  },
  {
   "cell_type": "markdown",
   "metadata": {},
   "source": [
    "## Calculate Manhattan Distance"
   ]
  },
  {
   "cell_type": "code",
   "execution_count": 79,
   "metadata": {},
   "outputs": [],
   "source": [
    "def manhattan_distance(row1, row2):\n",
    "    distance = 0.0\n",
    "    for i in range(1,len(row1)-1):\n",
    "        distance += abs(row1[i] - row2[i])\n",
    "#     print (distance)\n",
    "    return distance"
   ]
  },
  {
   "cell_type": "markdown",
   "metadata": {},
   "source": [
    "## Calculate 'k' nearest neighbours"
   ]
  },
  {
   "cell_type": "code",
   "execution_count": 80,
   "metadata": {},
   "outputs": [],
   "source": [
    "def get_neighbors1(train, test_row, num_neighbors):\n",
    "    distances = list()\n",
    "    for train_row in train:\n",
    "        dist = euclidean_distance(test_row, train_row)\n",
    "        distances.append((train_row, dist))\n",
    "    distances.sort(key=lambda tup: tup[1])\n",
    "    neighbors = list()\n",
    "    for i in range(num_neighbors):\n",
    "        neighbors.append(distances[i][0])\n",
    "#         print (distances[i][0])\n",
    "#     print (neighbors)  \n",
    "    return neighbors"
   ]
  },
  {
   "cell_type": "code",
   "execution_count": 81,
   "metadata": {},
   "outputs": [],
   "source": [
    "def get_neighbors2(train, test_row, num_neighbors):\n",
    "    distances = list()\n",
    "    for train_row in train:\n",
    "        dist = manhattan_distance(test_row, train_row)\n",
    "        distances.append((train_row, dist))\n",
    "    distances.sort(key=lambda tup: tup[1])\n",
    "    neighbors = list()\n",
    "    for i in range(num_neighbors):\n",
    "        neighbors.append(distances[i][0])\n",
    "#         print (distances[i][0])\n",
    "#     print (neighbors)  \n",
    "    return neighbors"
   ]
  },
  {
   "cell_type": "markdown",
   "metadata": {},
   "source": [
    "## Predict the Class of Mushroom"
   ]
  },
  {
   "cell_type": "code",
   "execution_count": 82,
   "metadata": {},
   "outputs": [],
   "source": [
    "def predict_classification1(train, test_row, num_neighbors):\n",
    "    neighbors = get_neighbors1(train, test_row, num_neighbors)\n",
    "    output_values = [row[0] for row in neighbors]\n",
    "#     print(output_values)\n",
    "    prediction = max(set(output_values), key=output_values.count)\n",
    "    return prediction"
   ]
  },
  {
   "cell_type": "code",
   "execution_count": 83,
   "metadata": {},
   "outputs": [],
   "source": [
    "def predict_classification2(train, test_row, num_neighbors):\n",
    "    neighbors = get_neighbors2(train, test_row, num_neighbors)\n",
    "    output_values = [row[0] for row in neighbors]\n",
    "#     print(output_values)\n",
    "    prediction = max(set(output_values), key=output_values.count)\n",
    "    return prediction"
   ]
  },
  {
   "cell_type": "markdown",
   "metadata": {},
   "source": [
    "## Calculate Precision"
   ]
  },
  {
   "cell_type": "code",
   "execution_count": 84,
   "metadata": {},
   "outputs": [],
   "source": [
    "def cal_precision(predicted_labels, actual_labels):\n",
    "    prec= precision_score(actual_labels, predicted_labels, average=None)\n",
    "    print ('Precision:', prec)\n",
    "    print()\n",
    "    return prec"
   ]
  },
  {
   "cell_type": "markdown",
   "metadata": {},
   "source": [
    "## Calculate Recall"
   ]
  },
  {
   "cell_type": "code",
   "execution_count": 85,
   "metadata": {},
   "outputs": [],
   "source": [
    "def cal_recall(predicted_labels, actual_labels):\n",
    "    rec= recall_score(actual_labels, predicted_labels, average=None)\n",
    "    print ('Recall:', rec)\n",
    "    print()\n",
    "    return rec"
   ]
  },
  {
   "cell_type": "markdown",
   "metadata": {},
   "source": [
    "## Curve(Precision vs Recall)"
   ]
  },
  {
   "cell_type": "code",
   "execution_count": 86,
   "metadata": {},
   "outputs": [],
   "source": [
    "def prec_vs_recall(prec, rec):\n",
    "    plt.plot(rec, prec, label= \"Precision vs Recall\", linestyle='--')\n",
    "    plt.xlabel('Recall')\n",
    "    plt.ylabel('Precision')\n",
    "    plt.legend()\n",
    "    plt.show()"
   ]
  },
  {
   "cell_type": "markdown",
   "metadata": {},
   "source": [
    "## Calculate Accuracy"
   ]
  },
  {
   "cell_type": "code",
   "execution_count": 87,
   "metadata": {},
   "outputs": [],
   "source": [
    "def cal_accuracy(predicted_labels, actual_labels):\n",
    "    acc= accuracy_score(actual_labels, predicted_labels)\n",
    "    print ('Accuracy:', acc)\n",
    "    print()\n",
    "    return acc"
   ]
  },
  {
   "cell_type": "markdown",
   "metadata": {},
   "source": [
    "## Calculate F1-Score"
   ]
  },
  {
   "cell_type": "code",
   "execution_count": 88,
   "metadata": {},
   "outputs": [],
   "source": [
    "def cal_score(predicted_labels, actual_labels):\n",
    "    print ('F1 score:', f1_score(actual_labels, predicted_labels, average=None))\n",
    "    print()"
   ]
  },
  {
   "cell_type": "markdown",
   "metadata": {},
   "source": [
    "## Classification Report"
   ]
  },
  {
   "cell_type": "code",
   "execution_count": 89,
   "metadata": {},
   "outputs": [],
   "source": [
    "def class_report(predicted_labels, actual_labels):\n",
    "    print ('Clasification report:', classification_report(actual_labels,predicted_labels))\n",
    "    print()"
   ]
  },
  {
   "cell_type": "markdown",
   "metadata": {},
   "source": [
    "## Confusion Matrix"
   ]
  },
  {
   "cell_type": "code",
   "execution_count": 90,
   "metadata": {},
   "outputs": [],
   "source": [
    "def conf_matrix(predicted_labels, actual_labels):\n",
    "    print ('Confussion matrix:\\n\\n',confusion_matrix(actual_labels, predicted_labels))\n",
    "    print()"
   ]
  },
  {
   "cell_type": "markdown",
   "metadata": {},
   "source": [
    "## Using Eculidean Distance"
   ]
  },
  {
   "cell_type": "code",
   "execution_count": 91,
   "metadata": {
    "scrolled": true
   },
   "outputs": [
    {
     "name": "stdout",
     "output_type": "stream",
     "text": [
      "K= 3\n",
      "\n",
      "Precision: [1. 1.]\n",
      "\n",
      "Recall: [1. 1.]\n",
      "\n"
     ]
    },
    {
     "data": {
      "image/png": "[encoded data removed]",
      "text/plain": [
       "<matplotlib.figure.Figure at 0x7fae9ff70240>"
      ]
     },
     "metadata": {},
     "output_type": "display_data"
    },
    {
     "name": "stdout",
     "output_type": "stream",
     "text": [
      "Accuracy: 1.0\n",
      "\n",
      "F1 score: [1. 1.]\n",
      "\n",
      "Clasification report:              precision    recall  f1-score   support\n",
      "\n",
      "          e       1.00      1.00      1.00       365\n",
      "          p       1.00      1.00      1.00       535\n",
      "\n",
      "avg / total       1.00      1.00      1.00       900\n",
      "\n",
      "\n",
      "Confussion matrix:\n",
      "\n",
      " [[365   0]\n",
      " [  0 535]]\n",
      "\n",
      "*****\n",
      "K= 5\n",
      "\n",
      "Precision: [1. 1.]\n",
      "\n",
      "Recall: [1. 1.]\n",
      "\n"
     ]
    },
    {
     "data": {
      "image/png": "[encoded data removed]",
      "text/plain": [
       "<matplotlib.figure.Figure at 0x7fae9d7b2908>"
      ]
     },
     "metadata": {},
     "output_type": "display_data"
    },
    {
     "name": "stdout",
     "output_type": "stream",
     "text": [
      "Accuracy: 1.0\n",
      "\n",
      "F1 score: [1. 1.]\n",
      "\n",
      "Clasification report:              precision    recall  f1-score   support\n",
      "\n",
      "          e       1.00      1.00      1.00       365\n",
      "          p       1.00      1.00      1.00       535\n",
      "\n",
      "avg / total       1.00      1.00      1.00       900\n",
      "\n",
      "\n",
      "Confussion matrix:\n",
      "\n",
      " [[365   0]\n",
      " [  0 535]]\n",
      "\n",
      "*****\n",
      "K= 7\n",
      "\n",
      "Precision: [1. 1.]\n",
      "\n",
      "Recall: [1. 1.]\n",
      "\n"
     ]
    },
    {
     "data": {
      "image/png": "[encoded data removed]",
      "text/plain": [
       "<matplotlib.figure.Figure at 0x7fae9fec6710>"
      ]
     },
     "metadata": {},
     "output_type": "display_data"
    },
    {
     "name": "stdout",
     "output_type": "stream",
     "text": [
      "Accuracy: 1.0\n",
      "\n",
      "F1 score: [1. 1.]\n",
      "\n",
      "Clasification report:              precision    recall  f1-score   support\n",
      "\n",
      "          e       1.00      1.00      1.00       365\n",
      "          p       1.00      1.00      1.00       535\n",
      "\n",
      "avg / total       1.00      1.00      1.00       900\n",
      "\n",
      "\n",
      "Confussion matrix:\n",
      "\n",
      " [[365   0]\n",
      " [  0 535]]\n",
      "\n",
      "*****\n",
      "K= 9\n",
      "\n",
      "Precision: [0.99455041 1.        ]\n",
      "\n",
      "Recall: [1.         0.99626168]\n",
      "\n"
     ]
    },
    {
     "data": {
      "image/png": "[encoded data removed]",
      "text/plain": [
       "<matplotlib.figure.Figure at 0x7fae9fd4af60>"
      ]
     },
     "metadata": {},
     "output_type": "display_data"
    },
    {
     "name": "stdout",
     "output_type": "stream",
     "text": [
      "Accuracy: 0.9977777777777778\n",
      "\n",
      "F1 score: [0.99726776 0.99812734]\n",
      "\n",
      "Clasification report:              precision    recall  f1-score   support\n",
      "\n",
      "          e       0.99      1.00      1.00       365\n",
      "          p       1.00      1.00      1.00       535\n",
      "\n",
      "avg / total       1.00      1.00      1.00       900\n",
      "\n",
      "\n",
      "Confussion matrix:\n",
      "\n",
      " [[365   0]\n",
      " [  2 533]]\n",
      "\n",
      "*****\n"
     ]
    }
   ],
   "source": [
    "kVals = range(3, 10, 2)\n",
    "# num_neighbors= 10\n",
    "scratch_accuraciese=[]\n",
    "for num_neighbors in range(3, 10, 2):\n",
    "    print (\"K=\", num_neighbors)\n",
    "    print()\n",
    "    predicted_labels =[]\n",
    "\n",
    "#     count=0\n",
    "    for row in valid_data:\n",
    "        label = predict_classification1(train_data, row, num_neighbors)\n",
    "        predicted_labels.append(label)\n",
    "#         print(\"Actual:\" , actual_labels[count], \"Predicted:\", label)\n",
    "#         count +=1\n",
    "        \n",
    "    prec= cal_precision(predicted_labels, actual_labels)\n",
    "    rec= cal_recall(predicted_labels, actual_labels)\n",
    "    prec_vs_recall(prec, rec)\n",
    "    scratch_accuraciese.append(cal_accuracy(predicted_labels, actual_labels))\n",
    "    score= cal_score(predicted_labels, actual_labels)\n",
    "    class_report(predicted_labels, actual_labels)\n",
    "    conf_matrix(predicted_labels, actual_labels)\n",
    "#     print(\"k=%d, accuracy=%.2f%%\" % (num_neighbors, acc * 100))\n",
    "    print(\"*****\") "
   ]
  },
  {
   "cell_type": "code",
   "execution_count": 92,
   "metadata": {},
   "outputs": [
    {
     "name": "stdout",
     "output_type": "stream",
     "text": [
      "[1.0, 1.0, 1.0, 0.9977777777777778]\n",
      "k=3 achieved highest accuracy of 100.00% on validation data\n"
     ]
    }
   ],
   "source": [
    "print (scratch_accuraciese)\n",
    "i = scratch_accuraciese.index(max(scratch_accuraciese))\n",
    "print(\"k=%d achieved highest accuracy of %.2f%% on validation data\" % ((i*2) +3,\n",
    "scratch_accuraciese[i] * 100))"
   ]
  },
  {
   "cell_type": "code",
   "execution_count": 93,
   "metadata": {},
   "outputs": [
    {
     "name": "stdout",
     "output_type": "stream",
     "text": [
      "Testing Accuracies vs K using Eculidean Distance\n",
      "\n"
     ]
    },
    {
     "data": {
      "image/png": "[encoded data removed]",
      "text/plain": [
       "<matplotlib.figure.Figure at 0x7fae9fe7d128>"
      ]
     },
     "metadata": {},
     "output_type": "display_data"
    }
   ],
   "source": [
    "print ('Testing Accuracies vs K using Eculidean Distance')\n",
    "print()\n",
    "plt.plot(kVals, scratch_accuraciese)\n",
    "plt.xlabel('Value for K for KNN')\n",
    "plt.ylabel('Testing Accuracy')\n",
    "plt.show()"
   ]
  },
  {
   "cell_type": "markdown",
   "metadata": {},
   "source": [
    "## Using Manhattan Distance"
   ]
  },
  {
   "cell_type": "code",
   "execution_count": 94,
   "metadata": {},
   "outputs": [
    {
     "name": "stdout",
     "output_type": "stream",
     "text": [
      "K= 3\n",
      "\n",
      "Precision: [1. 1.]\n",
      "\n",
      "Recall: [1. 1.]\n",
      "\n"
     ]
    },
    {
     "data": {
      "image/png": "[encoded data removed]",
      "text/plain": [
       "<matplotlib.figure.Figure at 0x7fae9fc32860>"
      ]
     },
     "metadata": {},
     "output_type": "display_data"
    },
    {
     "name": "stdout",
     "output_type": "stream",
     "text": [
      "Accuracy: 1.0\n",
      "\n",
      "F1 score: [1. 1.]\n",
      "\n",
      "Clasification report:              precision    recall  f1-score   support\n",
      "\n",
      "          e       1.00      1.00      1.00       365\n",
      "          p       1.00      1.00      1.00       535\n",
      "\n",
      "avg / total       1.00      1.00      1.00       900\n",
      "\n",
      "\n",
      "Confussion matrix:\n",
      "\n",
      " [[365   0]\n",
      " [  0 535]]\n",
      "\n",
      "*****\n",
      "K= 5\n",
      "\n",
      "Precision: [1. 1.]\n",
      "\n",
      "Recall: [1. 1.]\n",
      "\n"
     ]
    },
    {
     "data": {
      "image/png": "[encoded data removed]",
      "text/plain": [
       "<matplotlib.figure.Figure at 0x7fae9fbab208>"
      ]
     },
     "metadata": {},
     "output_type": "display_data"
    },
    {
     "name": "stdout",
     "output_type": "stream",
     "text": [
      "Accuracy: 1.0\n",
      "\n",
      "F1 score: [1. 1.]\n",
      "\n",
      "Clasification report:              precision    recall  f1-score   support\n",
      "\n",
      "          e       1.00      1.00      1.00       365\n",
      "          p       1.00      1.00      1.00       535\n",
      "\n",
      "avg / total       1.00      1.00      1.00       900\n",
      "\n",
      "\n",
      "Confussion matrix:\n",
      "\n",
      " [[365   0]\n",
      " [  0 535]]\n",
      "\n",
      "*****\n",
      "K= 7\n",
      "\n",
      "Precision: [1. 1.]\n",
      "\n",
      "Recall: [1. 1.]\n",
      "\n"
     ]
    },
    {
     "data": {
      "image/png": "[encoded data removed]",
      "text/plain": [
       "<matplotlib.figure.Figure at 0x7fae9fbb9a58>"
      ]
     },
     "metadata": {},
     "output_type": "display_data"
    },
    {
     "name": "stdout",
     "output_type": "stream",
     "text": [
      "Accuracy: 1.0\n",
      "\n",
      "F1 score: [1. 1.]\n",
      "\n",
      "Clasification report:              precision    recall  f1-score   support\n",
      "\n",
      "          e       1.00      1.00      1.00       365\n",
      "          p       1.00      1.00      1.00       535\n",
      "\n",
      "avg / total       1.00      1.00      1.00       900\n",
      "\n",
      "\n",
      "Confussion matrix:\n",
      "\n",
      " [[365   0]\n",
      " [  0 535]]\n",
      "\n",
      "*****\n",
      "K= 9\n",
      "\n",
      "Precision: [0.99455041 1.        ]\n",
      "\n",
      "Recall: [1.         0.99626168]\n",
      "\n"
     ]
    },
    {
     "data": {
      "image/png": "[encoded data removed]",
      "text/plain": [
       "<matplotlib.figure.Figure at 0x7fae9fc401d0>"
      ]
     },
     "metadata": {},
     "output_type": "display_data"
    },
    {
     "name": "stdout",
     "output_type": "stream",
     "text": [
      "Accuracy: 0.9977777777777778\n",
      "\n",
      "F1 score: [0.99726776 0.99812734]\n",
      "\n",
      "Clasification report:              precision    recall  f1-score   support\n",
      "\n",
      "          e       0.99      1.00      1.00       365\n",
      "          p       1.00      1.00      1.00       535\n",
      "\n",
      "avg / total       1.00      1.00      1.00       900\n",
      "\n",
      "\n",
      "Confussion matrix:\n",
      "\n",
      " [[365   0]\n",
      " [  2 533]]\n",
      "\n",
      "*****\n"
     ]
    }
   ],
   "source": [
    "# num_neighbors= 10\n",
    "scratch_accuraciesm=[]\n",
    "for num_neighbors in range(3, 10, 2):\n",
    "    print (\"K=\", num_neighbors)\n",
    "    print()\n",
    "    predicted_labels =[]\n",
    "\n",
    "\n",
    "    for row in valid_data:\n",
    "        label = predict_classification2(train_data, row, num_neighbors)\n",
    "        predicted_labels.append(label)\n",
    "    prec= cal_precision(predicted_labels, actual_labels)\n",
    "    rec= cal_recall(predicted_labels, actual_labels)\n",
    "    prec_vs_recall(prec, rec)\n",
    "    acc= cal_accuracy(predicted_labels, actual_labels)\n",
    "    score= cal_score(predicted_labels, actual_labels)\n",
    "    class_report(predicted_labels, actual_labels)\n",
    "    conf_matrix(predicted_labels, actual_labels)\n",
    "    scratch_accuraciesm.append(acc)\n",
    "#     print(\"k=%d, accuracy=%.2f%%\" % (num_neighbors, acc * 100))\n",
    "    print(\"*****\") "
   ]
  },
  {
   "cell_type": "code",
   "execution_count": 95,
   "metadata": {},
   "outputs": [
    {
     "name": "stdout",
     "output_type": "stream",
     "text": [
      "k=3 achieved highest accuracy of 100.00% on validation data\n"
     ]
    }
   ],
   "source": [
    "i = np.argmax(scratch_accuraciesm)\n",
    "print(\"k=%d achieved highest accuracy of %.2f%% on validation data\" % ((i*2) +3,\n",
    "scratch_accuraciesm[i] * 100))"
   ]
  },
  {
   "cell_type": "code",
   "execution_count": 96,
   "metadata": {},
   "outputs": [
    {
     "name": "stdout",
     "output_type": "stream",
     "text": [
      "Testing Accuracies vs K using Manhattan Distance\n",
      "\n"
     ]
    },
    {
     "data": {
      "image/png": "[encoded data removed]",
      "text/plain": [
       "<matplotlib.figure.Figure at 0x7fae9fc4f710>"
      ]
     },
     "metadata": {},
     "output_type": "display_data"
    }
   ],
   "source": [
    "print ('Testing Accuracies vs K using Manhattan Distance')\n",
    "print()\n",
    "plt.plot(kVals, scratch_accuraciesm)\n",
    "plt.xlabel('Value for K for KNN')\n",
    "plt.ylabel('Testing Accuracy')\n",
    "plt.show()"
   ]
  },
  {
   "cell_type": "code",
   "execution_count": null,
   "metadata": {},
   "outputs": [],
   "source": []
  },
  {
   "cell_type": "code",
   "execution_count": null,
   "metadata": {},
   "outputs": [],
   "source": []
  },
  {
   "cell_type": "code",
   "execution_count": null,
   "metadata": {},
   "outputs": [],
   "source": []
  }
 ],
 "metadata": {
  "kernelspec": {
   "display_name": "Python 3",
   "language": "python",
   "name": "python3"
  },
  "language_info": {
   "codemirror_mode": {
    "name": "ipython",
    "version": 3
   },
   "file_extension": ".py",
   "mimetype": "text/x-python",
   "name": "python",
   "nbconvert_exporter": "python",
   "pygments_lexer": "ipython3",
   "version": "3.6.9"
  }
 },
 "nbformat": 4,
 "nbformat_minor": 2
}
